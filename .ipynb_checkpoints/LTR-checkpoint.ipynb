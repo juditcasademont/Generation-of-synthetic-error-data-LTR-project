{
 "cells": [
  {
   "cell_type": "code",
   "execution_count": 1,
   "id": "1cb170f0",
   "metadata": {},
   "outputs": [],
   "source": [
    "def pos_thingie(sentence):\n",
    "    #!/usr/bin/env python3\n",
    "    \"\"\"Python 3 Example script for sending queries to the Sparv 2 API.\"\"\"\n",
    "\n",
    "    import json\n",
    "\n",
    "    # URL to the Sparv 2 API:\n",
    "    sparv_url = \"https://ws.spraakbanken.gu.se/ws/sparv/v2/\"\n",
    "\n",
    "    # The input text to be processed by Sparv:\n",
    "    sparv_input = str(sentence)\n",
    "\n",
    "    # Optional settings, specifying what analysis should be done (in this case compound analysis only):\n",
    "    # Check https://ws.spraakbanken.gu.se/ws/sparv/v2/#settings for more info\n",
    "    sparv_settings = json.dumps({\n",
    "        \"corpus\": \"Korpusnamn\",\n",
    "        \"lang\": \"sv\",\n",
    "        \"textmode\": \"plain\",\n",
    "        \"positional_attributes\": {\n",
    "            \"lexical_attributes\": [\n",
    "                \"pos\",\n",
    "                \"msd\",\n",
    "                \"lemma\"\n",
    "            ]\n",
    "        },\n",
    "        \"text_attributes\": {\n",
    "            \"readability_metrics\": [\n",
    "                \"lix\",\n",
    "                \"ovix\",\n",
    "                \"nk\"\n",
    "            ]\n",
    "        }\n",
    "    })\n",
    "\n",
    "    query_parameters = {\"text\": sparv_input, \"settings\": sparv_settings}\n",
    "\n",
    "\n",
    "    #-------------------------------------------------------------------\n",
    "    # Example using Python's built-in urllib.request\n",
    "    # https://docs.python.org/3/library/urllib.request.html\n",
    "    #-------------------------------------------------------------------\n",
    "\n",
    "    import urllib.request\n",
    "    import urllib.parse\n",
    "\n",
    "    enc_query = urllib.parse.urlencode(query_parameters).encode(\"UTF-8\")\n",
    "    resp = urllib.request.urlopen(sparv_url, data=enc_query).read()\n",
    "    \n",
    "    print(\"\\nSparv response using urllib:\\n\")\n",
    "    o = resp.decode(\"UTF-8\")\n",
    "    print(o)\n",
    "\n",
    "    #-------------------------------------------------------------------\n",
    "    # Example using the more intuitive but third-pary Requests library\n",
    "    # https://docs.python-requests.org/en/master/\n",
    "    #-------------------------------------------------------------------\n",
    "\n",
    "    import requests\n",
    "\n",
    "    response = requests.get(sparv_url, params=query_parameters)\n",
    "\n",
    "    print(\"\\n\\nSparv response using the requests library:\\n\")\n",
    "    print(response.text)\n",
    "    \n",
    "    return o"
   ]
  },
  {
   "cell_type": "code",
   "execution_count": 17,
   "id": "072fabbb",
   "metadata": {},
   "outputs": [],
   "source": [
    "def printss(s1, s2):\n",
    "    print(\"ORIGINAL:\")\n",
    "    good = pos_thingie(s1)\n",
    "    print(good)\n",
    "    print(\"_____________________________________________________\")\n",
    "    print(\"CORRECTED:\")\n",
    "    bad = pos_thingie(s2)\n",
    "    print(bad)\n",
    "    \n",
    "    return str(good), str(bad)"
   ]
  },
  {
   "cell_type": "code",
   "execution_count": 1,
   "id": "e9e2bad8",
   "metadata": {},
   "outputs": [
    {
     "name": "stdout",
     "output_type": "stream",
     "text": [
      "[('När jag kom först 2012 jag bodde i en kommunal lägenhet med 3 andra personer .', 'När jag först kom 2012 bodde jag i en kommunal lägenhet med 3 andra personer .'), ('Ibland vi kan titta och lyssna på hur det funkar .', 'Ibland kan vi titta och lyssna på hur det funkar .'), ('Ibland kan vi titta och lyssna på hur funkar det .', 'Ibland kan vi titta och lyssna på hur det funkar .'), ('Men nu jag är inte intresserad av den längre .', 'Men nu är jag inte intresserad av den längre .'), ('Dessutom kursen passar inte bra för mig .', 'Dessutom passar kursen inte bra för mig .'), ('Tyvärr någonting har hänt som gör att jag inte kan gå på kursen och jag önskar att få pengarna tillbaka .', 'Tyvärr har någonting hänt som gör att jag inte kan gå på kursen och jag önskar att få pengarna tillbaka .'), ('För det första måste jag stanna där lite längre så kan jag inte börja på den här kursen .', 'För det första måste jag stanna där lite längre så jag kan inte börja på den här kursen .'), ('För det andra har jag lite pengar och behöver jag mer pengar för att betala för biljetterna för resan .', 'För det andra har jag lite pengar och jag behöver mer pengar för att betala för biljetterna för resan .'), ('Så önskar jag att du betalar tillbaka min kursavgift så snart som möjligt .', 'Så jag önskar att du betalar tillbaka min kursavgift så snart som möjligt .'), ('Därför jag vill inte flytta .', 'Därför vill jag inte flytta .'), ('Pga såna grejer jag funderar på att köpa en egen lägenhet .', 'Pga såna grejer funderar jag på att köpa en egen lägenhet .'), ('Ibland mormor kommer för att stanna med oss flera dagar .', 'Ibland kommer mormor för att stanna med oss flera dagar .'), ('När man flyttar till en ny stad man är ensam de första dagarna .', 'När man flyttar till en ny stad är man ensam de första dagarna .'), ('Nu min lärare heter Karin .', 'Nu heter min lärare Karin .'), ('Därför jag tycker om havet .', 'Därför tycker jag om havet .'), ('Om man vill äta fisk man kan gå till havet och hitta fisk i det .', 'Om man vill äta fisk kan man gå till havet och hitta fisk i det .'), ('När jag blir arg jag vill gå till havet och titta på det så jag blir lugn .', 'När jag blir arg vill jag gå till havet och titta på det så jag blir lugn .'), ('När man åker dit man ser natur som många träd och stränder .', 'När man åker dit ser man natur som många träd och stränder .'), ('Där alla människor är snälla och hjälpsamma .', 'Där är alla människor snälla och hjälpsamma .'), ('Jag tycker om att bo tillsamans med min sambo men ibland det är lite svårt .', 'Jag tycker om att bo tillsamans med min sambo men ibland är det lite svårt .'), ('Där jag bodde i A-stad med min mamma och hennes hundar i hennes hus .', 'Där bodde jag i A-stad med min mamma och hennes hundar i hennes hus .'), ('Trots allt jag är jätteglad att bo där .', 'Trots allt är jag jätteglad att bo där .'), ('Från mitt fönster jag kan se Strandvägen-gen busshållplats .', 'Från mitt fönster kan jag se Strandvägen-gen busshållplats .'), ('Nästa dag hon kom till mig och berättade samma sak för mig och jag blev väldigt glad och vi träffades varje dag .', 'Nästa dag kom hon till mig och berättade samma sak för mig och jag blev väldigt glad och vi träffades varje dag .'), ('Så vår kärlek började .', 'Så började vår kärlek .'), ('Min man var min första kärlek och till slutet av mitt liv jag ska älska min man .', 'Min man var min första kärlek och till slutet av mitt liv ska jag älska min man .'), ('När blev jag kär var jag 18 år gammal Jag och min kärlek gick i en klass i skolan .', 'När jag blev kär var jag 18 år gammal Jag och min kärlek gick i en klass i skolan .'), ('När jag blev kär jag var 18 år gammal Jag och min kärlek gick i en klass i skolan .', 'När jag blev kär var jag 18 år gammal Jag och min kärlek gick i en klass i skolan .'), ('En dag vi träffade varandra i skolan .', 'En dag träffade vi varandra i skolan .'), ('I alla fall jag väntade på honom i fyra år .', 'I alla fall väntade jag på honom i fyra år .'), ('Ibland man brukar säga att kärleken har ingen gräns och det är sant .', 'Ibland brukar man säga att kärleken har ingen gräns och det är sant .'), ('Vi var klasskamrater till och med grundskolan och sedan min vän reste till ett avlägset land .', 'Vi var klasskamrater till och med grundskolan och sedan reste min vän till ett avlägset land .'), ('Varje dag pratade vi efter det och började jag bli väldigt glad .', 'Varje dag pratade vi efter det och jag började bli väldigt glad .'), ('Jag var fascinerad av henne och när jag kollar på henne börjar mitt hjärta slå så hårt tills jag känner att jag kan inte andas och jag blir röd i ansiktet .', 'Jag var fascinerad av henne och när jag kollar på henne börjar mitt hjärta slå så hårt tills jag känner att jag inte kan andas och jag blir röd i ansiktet .'), ('10 månader därefter vi bestämde oss för att sluta träffa varandra .', '10 månader därefter bestämde vi oss för att sluta träffa varandra .'), ('Vi har två båtar som åker vi i för att fiska och simma .', 'Vi har två båtar som vi åker i för att fiska och simma .'), ('På hösten vi åker dit ibland för att plocka svamp och blåbär .', 'På hösten åker vi dit ibland för att plocka svamp och blåbär .'), ('Introkursen var viktig för dem som var nybörjare och min första text handlade om hur ska jag lära mig svenska och fortsätta utbilda mig i Sverige .', 'Introkursen var viktig för dem som var nybörjare och min första text handlade om hur jag ska lära mig svenska och fortsätta utbilda mig i Sverige .'), ('När du flyger över Sverige du kan se allt bra och det är mycket vackert .', 'När du flyger över Sverige kan du se allt bra och det är mycket vackert .')]\n",
      "39\n"
     ]
    }
   ],
   "source": [
    "import pandas as pd\n",
    "import csv\n",
    "\n",
    "file = \"Sheet1.csv\"\n",
    "df = pd.read_csv(file)\n",
    "\n",
    "pairs = []\n",
    "\n",
    "with open(file, \"r\") as f:\n",
    "    reader = csv.reader(f, delimiter=\"\\t\")\n",
    "    for i, line in enumerate(reader):\n",
    "        l = line[0].split(',')\n",
    "        if l[6] == 'S-FinV':\n",
    "            pairs.append((l[2], l[3]))\n",
    "            \n",
    "print(pairs)\n",
    "print(len(pairs))"
   ]
  },
  {
   "cell_type": "code",
   "execution_count": 2,
   "id": "36ba467c",
   "metadata": {},
   "outputs": [],
   "source": [
    "def pos_shorter(sentence):\n",
    "    #!/usr/bin/env python3\n",
    "    \"\"\"Python 3 Example script for sending queries to the Sparv 2 API.\"\"\"\n",
    "\n",
    "    import json\n",
    "\n",
    "    # URL to the Sparv 2 API:\n",
    "    sparv_url = \"https://ws.spraakbanken.gu.se/ws/sparv/v2/\"\n",
    "\n",
    "    # The input text to be processed by Sparv:\n",
    "    sparv_input = str(sentence)\n",
    "\n",
    "    # Optional settings, specifying what analysis should be done (in this case compound analysis only):\n",
    "    # Check https://ws.spraakbanken.gu.se/ws/sparv/v2/#settings for more info\n",
    "    sparv_settings = json.dumps({\n",
    "        \"corpus\": \"Korpusnamn\",\n",
    "        \"lang\": \"sv\",\n",
    "        \"textmode\": \"plain\",\n",
    "        \"positional_attributes\": {\n",
    "            \"lexical_attributes\": [\n",
    "                \"pos\",\n",
    "                \"msd\",\n",
    "                \"lemma\"\n",
    "            ]\n",
    "        },\n",
    "        \"text_attributes\": {\n",
    "            \"readability_metrics\": [\n",
    "                \"lix\",\n",
    "                \"ovix\",\n",
    "                \"nk\"\n",
    "            ]\n",
    "        }\n",
    "    })\n",
    "\n",
    "    query_parameters = {\"text\": sparv_input, \"settings\": sparv_settings}\n",
    "\n",
    "\n",
    "    #-------------------------------------------------------------------\n",
    "    # Example using Python's built-in urllib.request\n",
    "    # https://docs.python.org/3/library/urllib.request.html\n",
    "    #-------------------------------------------------------------------\n",
    "\n",
    "    import urllib.request\n",
    "    import urllib.parse\n",
    "\n",
    "    enc_query = urllib.parse.urlencode(query_parameters).encode(\"UTF-8\")\n",
    "    resp = urllib.request.urlopen(sparv_url, data=enc_query).read()\n",
    "    \n",
    "#     print(\"\\nSparv response using urllib:\\n\")\n",
    "#     o = resp.decode(\"UTF-8\")\n",
    "#     print(o)\n",
    "\n",
    "    #-------------------------------------------------------------------\n",
    "    # Example using the more intuitive but third-pary Requests library\n",
    "    # https://docs.python-requests.org/en/master/\n",
    "    #-------------------------------------------------------------------\n",
    "\n",
    "    import requests\n",
    "\n",
    "    response = requests.get(sparv_url, params=query_parameters)\n",
    "\n",
    "#     print(\"\\n\\nSparv response using the requests library:\\n\")\n",
    "#     print(response.text)\n",
    "    \n",
    "    return resp, response"
   ]
  },
  {
   "cell_type": "code",
   "execution_count": null,
   "id": "a790a9b4",
   "metadata": {},
   "outputs": [],
   "source": [
    "def idkwhatimdoing(resp, response):\n",
    "    print('ORIGINAL:')\n",
    "    print(\"\\nSparv response using urllib:\\n\")\n",
    "    print(resp.decode(\"UTF-8\"))\n",
    "    print(\"\\n\\nSparv response using the requests library:\\n\")\n",
    "    print(response.text)\n",
    "    print('_________________________________')\n",
    "    print('CORRECTED:')\n",
    "    print(\"\\nSparv response using urllib:\\n\")\n",
    "    print(resp.decode(\"UTF-8\"))\n",
    "    print(\"\\n\\nSparv response using the requests library:\\n\")\n",
    "    print(response.text)\n",
    "    print('_________________________________')"
   ]
  },
  {
   "cell_type": "code",
   "execution_count": 3,
   "id": "45c1985a",
   "metadata": {},
   "outputs": [],
   "source": [
    "def pos_n_words_maker(s):\n",
    "    pos = []\n",
    "    for line in s:\n",
    "        if line.startswith('<w pos='):\n",
    "            pos.append(line)\n",
    "    sentence_pos_n_words = []\n",
    "    for p in pos:\n",
    "        p_split = p.split()\n",
    "        if len(p_split) == 3:\n",
    "            lemma = p_split[2] #change to lemma\n",
    "            front = lemma[:lemma.index(\">\")] + '>'\n",
    "            back = lemma[lemma.index(\"<\"):]\n",
    "            nofront = lemma.replace(front,'')\n",
    "            nofrontnorback = nofront.replace(back, '')\n",
    "            pos_n_word = (p_split[1][5:7], nofrontnorback) # (pos tag, word)\n",
    "            sentence_pos_n_words.append(pos_n_word)\n",
    "        if len(p_split) == 4:\n",
    "            lemma = p_split[3]\n",
    "            front = lemma[:lemma.index(\">\")] + '>'\n",
    "            back = lemma[lemma.index(\"<\"):]\n",
    "            nofront = lemma.replace(front,'')\n",
    "            nofrontnorback = nofront.replace(back, '')\n",
    "            pos_n_word = (p_split[1][5:7], nofrontnorback) # (pos tag, word)\n",
    "            sentence_pos_n_words.append(pos_n_word)\n",
    "    return sentence_pos_n_words"
   ]
  },
  {
   "cell_type": "code",
   "execution_count": 4,
   "id": "0b35a81d",
   "metadata": {},
   "outputs": [],
   "source": [
    "import re\n",
    "\n",
    "final = []\n",
    "for p1, p2 in pairs:\n",
    "    pp1, _ = pos_shorter(p1)\n",
    "    pp2, _ = pos_shorter(p2)\n",
    "    pp1 = pp1.decode(\"UTF-8\")\n",
    "    pp2 = pp2.decode(\"UTF-8\")\n",
    "#     a = a.text\n",
    "    s1 = pp1.splitlines()\n",
    "    s2 = pp2.splitlines()\n",
    "    \n",
    "    p_n_w1 = pos_n_words_maker(s1)\n",
    "    p_n_w2 = pos_n_words_maker(s2)\n",
    "    final.append((p_n_w1, p_n_w2))    "
   ]
  },
  {
   "cell_type": "code",
   "execution_count": 5,
   "id": "ac422e30",
   "metadata": {},
   "outputs": [
    {
     "name": "stdout",
     "output_type": "stream",
     "text": [
      "[([('HA', 'När'), ('PN', 'jag'), ('VB', 'kom'), ('AB', 'först'), ('RG', '2012'), ('PN', 'jag'), ('VB', 'bodde'), ('PP', 'i'), ('DT', 'en'), ('JJ', 'kommunal'), ('NN', 'lägenhet'), ('PP', 'med'), ('RG', '3'), ('JJ', 'andra'), ('NN', 'personer'), ('MA', '.')], [('HA', 'När'), ('PN', 'jag'), ('AB', 'först'), ('VB', 'kom'), ('RG', '2012'), ('VB', 'bodde'), ('PN', 'jag'), ('PP', 'i'), ('DT', 'en'), ('JJ', 'kommunal'), ('NN', 'lägenhet'), ('PP', 'med'), ('RG', '3'), ('JJ', 'andra'), ('NN', 'personer'), ('MA', '.')]), ([('AB', 'Ibland'), ('PN', 'vi'), ('VB', 'kan'), ('VB', 'titta'), ('KN', 'och'), ('VB', 'lyssna'), ('PP', 'på'), ('HA', 'hur'), ('PN', 'det'), ('VB', 'funkar'), ('MA', '.')], [('AB', 'Ibland'), ('VB', 'kan'), ('PN', 'vi'), ('VB', 'titta'), ('KN', 'och'), ('VB', 'lyssna'), ('PP', 'på'), ('HA', 'hur'), ('PN', 'det'), ('VB', 'funkar'), ('MA', '.')]), ([('AB', 'Ibland'), ('VB', 'kan'), ('PN', 'vi'), ('VB', 'titta'), ('KN', 'och'), ('VB', 'lyssna'), ('PP', 'på'), ('HA', 'hur'), ('VB', 'funkar'), ('PN', 'det'), ('MA', '.')], [('AB', 'Ibland'), ('VB', 'kan'), ('PN', 'vi'), ('VB', 'titta'), ('KN', 'och'), ('VB', 'lyssna'), ('PP', 'på'), ('HA', 'hur'), ('PN', 'det'), ('VB', 'funkar'), ('MA', '.')]), ([('KN', 'Men'), ('AB', 'nu'), ('PN', 'jag'), ('VB', 'är'), ('AB', 'inte'), ('PC', 'intresserad'), ('PP', 'av'), ('DT', 'den'), ('JJ', 'längre'), ('MA', '.')], [('KN', 'Men'), ('AB', 'nu'), ('VB', 'är'), ('PN', 'jag'), ('AB', 'inte'), ('PC', 'intresserad'), ('PP', 'av'), ('DT', 'den'), ('JJ', 'längre'), ('MA', '.')]), ([('AB', 'Dessutom'), ('NN', 'kursen'), ('AB', 'inte'), ('JJ', 'bra'), ('PP', 'för'), ('MA', '.')], [('AB', 'Dessutom'), ('NN', 'kursen'), ('AB', 'inte'), ('JJ', 'bra'), ('PP', 'för'), ('MA', '.')]), ([('AB', 'Tyvärr'), ('PN', 'någonting'), ('VB', 'har'), ('VB', 'hänt'), ('HP', 'som'), ('VB', 'gör'), ('SN', 'att'), ('PN', 'jag'), ('AB', 'inte'), ('VB', 'kan'), ('VB', 'gå'), ('PP', 'på'), ('NN', 'kursen'), ('KN', 'och'), ('PN', 'jag'), ('VB', 'önskar'), ('IE', 'att'), ('VB', 'få'), ('NN', 'pengarna'), ('AB', 'tillbaka'), ('MA', '.')], [('AB', 'Tyvärr'), ('VB', 'har'), ('PN', 'någonting'), ('VB', 'hänt'), ('HP', 'som'), ('VB', 'gör'), ('SN', 'att'), ('PN', 'jag'), ('AB', 'inte'), ('VB', 'kan'), ('VB', 'gå'), ('PP', 'på'), ('NN', 'kursen'), ('KN', 'och'), ('PN', 'jag'), ('VB', 'önskar'), ('IE', 'att'), ('VB', 'få'), ('NN', 'pengarna'), ('AB', 'tillbaka'), ('MA', '.')]), ([('PP', 'För'), ('DT', 'det'), ('RO', 'första'), ('VB', 'måste'), ('PN', 'jag'), ('VB', 'stanna'), ('AB', 'där'), ('AB', 'lite'), ('AB', 'längre'), ('AB', 'så'), ('VB', 'kan'), ('PN', 'jag'), ('AB', 'inte'), ('VB', 'börja'), ('PP', 'på'), ('NN', 'kursen'), ('MA', '.')], [('PP', 'För'), ('DT', 'det'), ('RO', 'första'), ('VB', 'måste'), ('PN', 'jag'), ('VB', 'stanna'), ('AB', 'där'), ('AB', 'lite'), ('AB', 'längre'), ('KN', 'så'), ('PN', 'jag'), ('VB', 'kan'), ('AB', 'inte'), ('VB', 'börja'), ('PP', 'på'), ('NN', 'kursen'), ('MA', '.')]), ([('VB', 'har'), ('PN', 'jag'), ('AB', 'lite'), ('NN', 'pengar'), ('KN', 'och'), ('VB', 'behöver'), ('PN', 'jag'), ('AB', 'mer'), ('NN', 'pengar'), ('PP', 'för'), ('IE', 'att'), ('VB', 'betala'), ('PP', 'för'), ('NN', 'biljetterna'), ('PP', 'för'), ('NN', 'resan'), ('MA', '.')], [('VB', 'har'), ('PN', 'jag'), ('AB', 'lite'), ('NN', 'pengar'), ('KN', 'och'), ('PN', 'jag'), ('VB', 'behöver'), ('AB', 'mer'), ('NN', 'pengar'), ('PP', 'för'), ('IE', 'att'), ('VB', 'betala'), ('PP', 'för'), ('NN', 'biljetterna'), ('PP', 'för'), ('NN', 'resan'), ('MA', '.')]), ([('AB', 'Så'), ('VB', 'önskar'), ('PN', 'jag'), ('SN', 'att'), ('PN', 'du'), ('VB', 'betalar'), ('PL', 'tillbaka'), ('PS', 'min'), ('NN', 'kursavgift'), ('AB', 'så'), ('AB', 'snart'), ('KN', 'som'), ('JJ', 'möjligt'), ('MA', '.')], [('KN', 'Så'), ('PN', 'jag'), ('VB', 'önskar'), ('SN', 'att'), ('PN', 'du'), ('VB', 'betalar'), ('PL', 'tillbaka'), ('PS', 'min'), ('NN', 'kursavgift'), ('AB', 'så'), ('AB', 'snart'), ('KN', 'som'), ('JJ', 'möjligt'), ('MA', '.')]), ([('HA', 'Därför'), ('PN', 'jag'), ('VB', 'vill'), ('AB', 'inte'), ('VB', 'flytta'), ('MA', '.')], [('AB', 'Därför'), ('VB', 'vill'), ('PN', 'jag'), ('AB', 'inte'), ('VB', 'flytta'), ('MA', '.')]), ([('AB', 'Pga'), ('JJ', 'såna'), ('NN', 'grejer'), ('PN', 'jag'), ('VB', 'funderar'), ('PP', 'på'), ('IE', 'att'), ('VB', 'köpa'), ('DT', 'en'), ('JJ', 'egen'), ('NN', 'lägenhet'), ('MA', '.')], [('AB', 'Pga'), ('JJ', 'såna'), ('NN', 'grejer'), ('VB', 'funderar'), ('PN', 'jag'), ('PP', 'på'), ('IE', 'att'), ('VB', 'köpa'), ('DT', 'en'), ('JJ', 'egen'), ('NN', 'lägenhet'), ('MA', '.')]), ([('AB', 'Ibland'), ('NN', 'mormor'), ('VB', 'kommer'), ('PP', 'för'), ('IE', 'att'), ('VB', 'stanna'), ('PP', 'med'), ('PN', 'oss'), ('JJ', 'flera'), ('NN', 'dagar'), ('MA', '.')], [('AB', 'Ibland'), ('VB', 'kommer'), ('NN', 'mormor'), ('PP', 'för'), ('IE', 'att'), ('VB', 'stanna'), ('PP', 'med'), ('PN', 'oss'), ('JJ', 'flera'), ('NN', 'dagar'), ('MA', '.')]), ([('HA', 'När'), ('PN', 'man'), ('VB', 'flyttar'), ('PP', 'till'), ('DT', 'en'), ('JJ', 'ny'), ('NN', 'stad'), ('PN', 'man'), ('VB', 'är'), ('JJ', 'ensam'), ('DT', 'de'), ('RO', 'första'), ('NN', 'dagarna'), ('MA', '.')], [('HA', 'När'), ('PN', 'man'), ('VB', 'flyttar'), ('PP', 'till'), ('DT', 'en'), ('JJ', 'ny'), ('NN', 'stad'), ('VB', 'är'), ('PN', 'man'), ('JJ', 'ensam'), ('DT', 'de'), ('RO', 'första'), ('NN', 'dagarna'), ('MA', '.')]), ([('AB', 'Nu'), ('PS', 'min'), ('NN', 'lärare'), ('VB', 'heter'), ('PM', 'Karin'), ('MA', '.')], [('AB', 'Nu'), ('VB', 'heter'), ('PS', 'min'), ('NN', 'lärare'), ('PM', 'Karin'), ('MA', '.')]), ([('HA', 'Därför'), ('PN', 'jag'), ('VB', 'tycker'), ('PP', 'om'), ('NN', 'havet'), ('MA', '.')], [('AB', 'Därför'), ('VB', 'tycker'), ('PN', 'jag'), ('PP', 'om'), ('NN', 'havet'), ('MA', '.')]), ([('SN', 'Om'), ('PN', 'man'), ('VB', 'vill'), ('VB', 'äta'), ('NN', 'fisk'), ('PN', 'man'), ('VB', 'kan'), ('VB', 'gå'), ('PP', 'till'), ('NN', 'havet'), ('KN', 'och'), ('VB', 'hitta'), ('NN', 'fisk'), ('PP', 'i'), ('PN', 'det'), ('MA', '.')], [('SN', 'Om'), ('PN', 'man'), ('VB', 'vill'), ('VB', 'äta'), ('NN', 'fisk'), ('VB', 'kan'), ('PN', 'man'), ('VB', 'gå'), ('PP', 'till'), ('NN', 'havet'), ('KN', 'och'), ('VB', 'hitta'), ('NN', 'fisk'), ('PP', 'i'), ('PN', 'det'), ('MA', '.')]), ([('HA', 'När'), ('PN', 'jag'), ('VB', 'blir'), ('JJ', 'arg'), ('PN', 'jag'), ('VB', 'vill'), ('VB', 'gå'), ('PP', 'till'), ('NN', 'havet'), ('KN', 'och'), ('VB', 'titta'), ('PP', 'på'), ('PN', 'det'), ('SN', 'så'), ('PN', 'jag'), ('VB', 'blir'), ('JJ', 'lugn'), ('MA', '.')], [('HA', 'När'), ('PN', 'jag'), ('VB', 'blir'), ('JJ', 'arg'), ('VB', 'vill'), ('PN', 'jag'), ('VB', 'gå'), ('PP', 'till'), ('NN', 'havet'), ('KN', 'och'), ('VB', 'titta'), ('PP', 'på'), ('PN', 'det'), ('SN', 'så'), ('PN', 'jag'), ('VB', 'blir'), ('JJ', 'lugn'), ('MA', '.')]), ([('HA', 'När'), ('PN', 'man'), ('PN', 'man'), ('VB', 'ser'), ('NN', 'natur'), ('KN', 'som'), ('JJ', 'många'), ('NN', 'träd'), ('KN', 'och'), ('NN', 'stränder'), ('MA', '.')], [('HA', 'När'), ('PN', 'man'), ('VB', 'ser'), ('PN', 'man'), ('NN', 'natur'), ('KN', 'som'), ('JJ', 'många'), ('NN', 'träd'), ('KN', 'och'), ('NN', 'stränder'), ('MA', '.')]), ([('AB', 'Där'), ('DT', 'alla'), ('NN', 'människor'), ('VB', 'är'), ('JJ', 'snälla'), ('KN', 'och'), ('JJ', 'hjälpsamma'), ('MA', '.')], [('AB', 'Där'), ('VB', 'är'), ('DT', 'alla'), ('NN', 'människor'), ('JJ', 'snälla'), ('KN', 'och'), ('JJ', 'hjälpsamma'), ('MA', '.')]), ([('PN', 'Jag'), ('VB', 'tycker'), ('PP', 'om'), ('IE', 'att'), ('VB', 'bo'), ('NN', 'tillsamans'), ('PP', 'med'), ('PS', 'min'), ('NN', 'sambo'), ('KN', 'men'), ('AB', 'ibland'), ('PN', 'det'), ('VB', 'är'), ('AB', 'lite'), ('JJ', 'svårt'), ('MA', '.')], [('PN', 'Jag'), ('VB', 'tycker'), ('PP', 'om'), ('IE', 'att'), ('VB', 'bo'), ('NN', 'tillsamans'), ('PP', 'med'), ('PS', 'min'), ('NN', 'sambo'), ('KN', 'men'), ('AB', 'ibland'), ('VB', 'är'), ('PN', 'det'), ('AB', 'lite'), ('JJ', 'svårt'), ('MA', '.')]), ([('HA', 'Där'), ('PN', 'jag'), ('VB', 'bodde'), ('PP', 'i'), ('NN', 'A-stad'), ('PP', 'med'), ('PS', 'min'), ('NN', 'mamma'), ('KN', 'och'), ('PS', 'hennes'), ('NN', 'hundar'), ('PP', 'i'), ('PS', 'hennes'), ('NN', 'hus'), ('MA', '.')], [('AB', 'Där'), ('VB', 'bodde'), ('PN', 'jag'), ('PP', 'i'), ('NN', 'A-stad'), ('PP', 'med'), ('PS', 'min'), ('NN', 'mamma'), ('KN', 'och'), ('PS', 'hennes'), ('NN', 'hundar'), ('PP', 'i'), ('PS', 'hennes'), ('NN', 'hus'), ('MA', '.')]), ([('PN', 'jag'), ('VB', 'är'), ('JJ', 'jätteglad'), ('IE', 'att'), ('VB', 'bo'), ('AB', 'där'), ('MA', '.')], [('VB', 'är'), ('PN', 'jag'), ('JJ', 'jätteglad'), ('IE', 'att'), ('VB', 'bo'), ('AB', 'där'), ('MA', '.')]), ([('PP', 'Från'), ('PS', 'mitt'), ('NN', 'fönster'), ('PN', 'jag'), ('VB', 'kan'), ('VB', 'se'), ('NN', 'Strandvägen-gen'), ('NN', 'busshållplats'), ('MA', '.')], [('PP', 'Från'), ('PS', 'mitt'), ('NN', 'fönster'), ('VB', 'kan'), ('PN', 'jag'), ('VB', 'se'), ('NN', 'Strandvägen-gen'), ('NN', 'busshållplats'), ('MA', '.')]), ([('JJ', 'Nästa'), ('NN', 'dag'), ('PN', 'hon'), ('PP', 'till'), ('KN', 'och'), ('VB', 'berättade'), ('DT', 'samma'), ('NN', 'sak'), ('PP', 'för'), ('PN', 'mig'), ('KN', 'och'), ('PN', 'jag'), ('VB', 'blev'), ('AB', 'väldigt'), ('JJ', 'glad'), ('KN', 'och'), ('PN', 'vi'), ('VB', 'träffades'), ('DT', 'varje'), ('NN', 'dag'), ('MA', '.')], [('JJ', 'Nästa'), ('NN', 'dag'), ('PN', 'hon'), ('PP', 'till'), ('KN', 'och'), ('VB', 'berättade'), ('DT', 'samma'), ('NN', 'sak'), ('PP', 'för'), ('PN', 'mig'), ('KN', 'och'), ('PN', 'jag'), ('VB', 'blev'), ('AB', 'väldigt'), ('JJ', 'glad'), ('KN', 'och'), ('PN', 'vi'), ('VB', 'träffades'), ('DT', 'varje'), ('NN', 'dag'), ('MA', '.')]), ([('AB', 'Så'), ('PS', 'vår'), ('NN', 'kärlek'), ('VB', 'började'), ('MA', '.')], [('AB', 'Så'), ('VB', 'började'), ('PS', 'vår'), ('NN', 'kärlek'), ('MA', '.')]), ([('PS', 'Min'), ('NN', 'man'), ('VB', 'var'), ('PS', 'min'), ('RO', 'första'), ('NN', 'kärlek'), ('KN', 'och'), ('PP', 'av'), ('PS', 'mitt'), ('NN', 'liv'), ('PN', 'jag'), ('VB', 'ska'), ('VB', 'älska'), ('PS', 'min'), ('NN', 'man'), ('MA', '.')], [('PS', 'Min'), ('NN', 'man'), ('VB', 'var'), ('PS', 'min'), ('RO', 'första'), ('NN', 'kärlek'), ('KN', 'och'), ('PP', 'av'), ('PS', 'mitt'), ('NN', 'liv'), ('VB', 'ska'), ('PN', 'jag'), ('VB', 'älska'), ('PS', 'min'), ('NN', 'man'), ('MA', '.')]), ([('HA', 'När'), ('VB', 'blev'), ('PN', 'jag'), ('JJ', 'kär'), ('VB', 'var'), ('PN', 'jag'), ('RG', '18'), ('NN', 'år'), ('JJ', 'gammal'), ('PN', 'Jag'), ('KN', 'och'), ('PS', 'min'), ('NN', 'kärlek'), ('VB', 'gick'), ('PP', 'i'), ('DT', 'en'), ('NN', 'klass'), ('PP', 'i'), ('NN', 'skolan'), ('MA', '.')], [('HA', 'När'), ('PN', 'jag'), ('VB', 'blev'), ('JJ', 'kär'), ('VB', 'var'), ('PN', 'jag'), ('RG', '18'), ('NN', 'år'), ('JJ', 'gammal'), ('PN', 'Jag'), ('KN', 'och'), ('PS', 'min'), ('NN', 'kärlek'), ('VB', 'gick'), ('PP', 'i'), ('DT', 'en'), ('NN', 'klass'), ('PP', 'i'), ('NN', 'skolan'), ('MA', '.')]), ([('HA', 'När'), ('PN', 'jag'), ('VB', 'blev'), ('JJ', 'kär'), ('PN', 'jag'), ('VB', 'var'), ('RG', '18'), ('NN', 'år'), ('JJ', 'gammal'), ('PN', 'Jag'), ('KN', 'och'), ('PS', 'min'), ('NN', 'kärlek'), ('VB', 'gick'), ('PP', 'i'), ('DT', 'en'), ('NN', 'klass'), ('PP', 'i'), ('NN', 'skolan'), ('MA', '.')], [('HA', 'När'), ('PN', 'jag'), ('VB', 'blev'), ('JJ', 'kär'), ('VB', 'var'), ('PN', 'jag'), ('RG', '18'), ('NN', 'år'), ('JJ', 'gammal'), ('PN', 'Jag'), ('KN', 'och'), ('PS', 'min'), ('NN', 'kärlek'), ('VB', 'gick'), ('PP', 'i'), ('DT', 'en'), ('NN', 'klass'), ('PP', 'i'), ('NN', 'skolan'), ('MA', '.')]), ([('DT', 'En'), ('NN', 'dag'), ('PN', 'vi'), ('VB', 'träffade'), ('PN', 'varandra'), ('PP', 'i'), ('NN', 'skolan'), ('MA', '.')], [('DT', 'En'), ('NN', 'dag'), ('VB', 'träffade'), ('PN', 'vi'), ('PN', 'varandra'), ('PP', 'i'), ('NN', 'skolan'), ('MA', '.')]), ([('PN', 'jag'), ('VB', 'väntade'), ('PP', 'på'), ('PN', 'honom'), ('PP', 'i'), ('RG', 'fyra'), ('NN', 'år'), ('MA', '.')], [('VB', 'väntade'), ('PN', 'jag'), ('PP', 'på'), ('PN', 'honom'), ('PP', 'i'), ('RG', 'fyra'), ('NN', 'år'), ('MA', '.')]), ([('AB', 'Ibland'), ('PN', 'man'), ('VB', 'brukar'), ('VB', 'säga'), ('SN', 'att'), ('NN', 'kärleken'), ('VB', 'har'), ('DT', 'ingen'), ('NN', 'gräns'), ('KN', 'och'), ('PN', 'det'), ('VB', 'är'), ('JJ', 'sant'), ('MA', '.')], [('AB', 'Ibland'), ('VB', 'brukar'), ('PN', 'man'), ('VB', 'säga'), ('SN', 'att'), ('NN', 'kärleken'), ('VB', 'har'), ('DT', 'ingen'), ('NN', 'gräns'), ('KN', 'och'), ('PN', 'det'), ('VB', 'är'), ('JJ', 'sant'), ('MA', '.')]), ([('PN', 'Vi'), ('VB', 'var'), ('NN', 'klasskamrater'), ('NN', 'grundskolan'), ('KN', 'och'), ('PP', 'sedan'), ('PS', 'min'), ('NN', 'vän'), ('VB', 'reste'), ('PP', 'till'), ('DT', 'ett'), ('JJ', 'avlägset'), ('NN', 'land'), ('MA', '.')], [('PN', 'Vi'), ('VB', 'var'), ('NN', 'klasskamrater'), ('NN', 'grundskolan'), ('KN', 'och'), ('AB', 'sedan'), ('VB', 'reste'), ('PS', 'min'), ('NN', 'vän'), ('PP', 'till'), ('DT', 'ett'), ('JJ', 'avlägset'), ('NN', 'land'), ('MA', '.')]), ([('DT', 'Varje'), ('NN', 'dag'), ('VB', 'pratade'), ('PN', 'vi'), ('PP', 'efter'), ('DT', 'det'), ('KN', 'och'), ('VB', 'började'), ('PN', 'jag'), ('VB', 'bli'), ('AB', 'väldigt'), ('JJ', 'glad'), ('MA', '.')], [('DT', 'Varje'), ('NN', 'dag'), ('VB', 'pratade'), ('PN', 'vi'), ('PP', 'efter'), ('DT', 'det'), ('KN', 'och'), ('PN', 'jag'), ('VB', 'började'), ('VB', 'bli'), ('AB', 'väldigt'), ('JJ', 'glad'), ('MA', '.')]), ([('PN', 'Jag'), ('VB', 'var'), ('PC', 'fascinerad'), ('PP', 'av'), ('PN', 'henne'), ('KN', 'och'), ('HA', 'när'), ('PN', 'jag'), ('VB', 'kollar'), ('PP', 'på'), ('PN', 'henne'), ('VB', 'börjar'), ('PS', 'mitt'), ('NN', 'hjärta'), ('VB', 'slå'), ('AB', 'så'), ('AB', 'hårt'), ('SN', 'tills'), ('PN', 'jag'), ('VB', 'känner'), ('SN', 'att'), ('PN', 'jag'), ('VB', 'kan'), ('AB', 'inte'), ('VB', 'andas'), ('KN', 'och'), ('PN', 'jag'), ('VB', 'blir'), ('JJ', 'röd'), ('PP', 'i'), ('NN', 'ansiktet'), ('MA', '.')], [('PN', 'Jag'), ('VB', 'var'), ('PC', 'fascinerad'), ('PP', 'av'), ('PN', 'henne'), ('KN', 'och'), ('HA', 'när'), ('PN', 'jag'), ('VB', 'kollar'), ('PP', 'på'), ('PN', 'henne'), ('VB', 'börjar'), ('PS', 'mitt'), ('NN', 'hjärta'), ('VB', 'slå'), ('AB', 'så'), ('AB', 'hårt'), ('SN', 'tills'), ('PN', 'jag'), ('VB', 'känner'), ('SN', 'att'), ('PN', 'jag'), ('AB', 'inte'), ('VB', 'kan'), ('VB', 'andas'), ('KN', 'och'), ('PN', 'jag'), ('VB', 'blir'), ('JJ', 'röd'), ('PP', 'i'), ('NN', 'ansiktet'), ('MA', '.')]), ([('RG', '10'), ('NN', 'månader'), ('AB', 'därefter'), ('PN', 'vi'), ('PP', 'för'), ('IE', 'att'), ('VB', 'sluta'), ('VB', 'träffa'), ('PN', 'varandra'), ('MA', '.')], [('RG', '10'), ('NN', 'månader'), ('AB', 'därefter'), ('PN', 'vi'), ('PP', 'för'), ('IE', 'att'), ('VB', 'sluta'), ('VB', 'träffa'), ('PN', 'varandra'), ('MA', '.')]), ([('PN', 'Vi'), ('VB', 'har'), ('RG', 'två'), ('NN', 'båtar'), ('HP', 'som'), ('VB', 'åker'), ('PN', 'vi'), ('PP', 'i'), ('PP', 'för'), ('IE', 'att'), ('VB', 'fiska'), ('KN', 'och'), ('VB', 'simma'), ('MA', '.')], [('PN', 'Vi'), ('VB', 'har'), ('RG', 'två'), ('NN', 'båtar'), ('HP', 'som'), ('PN', 'vi'), ('VB', 'åker'), ('PP', 'i'), ('PP', 'för'), ('IE', 'att'), ('VB', 'fiska'), ('KN', 'och'), ('VB', 'simma'), ('MA', '.')]), ([('PP', 'På'), ('NN', 'hösten'), ('PN', 'vi'), ('AB', 'ibland'), ('PP', 'för'), ('IE', 'att'), ('VB', 'plocka'), ('NN', 'svamp'), ('KN', 'och'), ('NN', 'blåbär'), ('MA', '.')], [('PP', 'På'), ('NN', 'hösten'), ('PN', 'vi'), ('AB', 'ibland'), ('PP', 'för'), ('IE', 'att'), ('VB', 'plocka'), ('NN', 'svamp'), ('KN', 'och'), ('NN', 'blåbär'), ('MA', '.')]), ([('NN', 'Introkursen'), ('VB', 'var'), ('JJ', 'viktig'), ('PP', 'för'), ('PN', 'dem'), ('HP', 'som'), ('VB', 'var'), ('NN', 'nybörjare'), ('KN', 'och'), ('PS', 'min'), ('RO', 'första'), ('NN', 'text'), ('VB', 'handlade'), ('PP', 'om'), ('HA', 'hur'), ('VB', 'ska'), ('PN', 'jag'), ('NN', 'svenska'), ('KN', 'och'), ('VB', 'fortsätta'), ('VB', 'utbilda'), ('PN', 'mig'), ('PP', 'i'), ('PM', 'Sverige'), ('MA', '.')], [('NN', 'Introkursen'), ('VB', 'var'), ('JJ', 'viktig'), ('PP', 'för'), ('PN', 'dem'), ('HP', 'som'), ('VB', 'var'), ('NN', 'nybörjare'), ('KN', 'och'), ('PS', 'min'), ('RO', 'första'), ('NN', 'text'), ('VB', 'handlade'), ('PP', 'om'), ('HA', 'hur'), ('PN', 'jag'), ('VB', 'ska'), ('NN', 'svenska'), ('KN', 'och'), ('VB', 'fortsätta'), ('VB', 'utbilda'), ('PN', 'mig'), ('PP', 'i'), ('PM', 'Sverige'), ('MA', '.')]), ([('HA', 'När'), ('PN', 'du'), ('VB', 'flyger'), ('PP', 'över'), ('PM', 'Sverige'), ('PN', 'du'), ('VB', 'kan'), ('VB', 'se'), ('AB', 'allt'), ('JJ', 'bra'), ('KN', 'och'), ('PN', 'det'), ('VB', 'är'), ('AB', 'mycket'), ('AB', 'vackert'), ('MA', '.')], [('HA', 'När'), ('PN', 'du'), ('VB', 'flyger'), ('PP', 'över'), ('PM', 'Sverige'), ('VB', 'kan'), ('PN', 'du'), ('VB', 'se'), ('AB', 'allt'), ('JJ', 'bra'), ('KN', 'och'), ('PN', 'det'), ('VB', 'är'), ('AB', 'mycket'), ('AB', 'vackert'), ('MA', '.')])]\n"
     ]
    }
   ],
   "source": [
    "print(final)"
   ]
  },
  {
   "cell_type": "code",
   "execution_count": 6,
   "id": "55a12921",
   "metadata": {},
   "outputs": [
    {
     "name": "stdout",
     "output_type": "stream",
     "text": [
      "39\n"
     ]
    }
   ],
   "source": [
    "print(len(final))"
   ]
  },
  {
   "cell_type": "code",
   "execution_count": 16,
   "id": "558f6894",
   "metadata": {},
   "outputs": [
    {
     "name": "stdout",
     "output_type": "stream",
     "text": [
      "   POS og     Word og POS cr     Word cr\n",
      "0      AB          Så     KN          Så\n",
      "1      VB      önskar     PN         jag\n",
      "2      PN         jag     VB      önskar\n",
      "3      SN         att     SN         att\n",
      "4      PN          du     PN          du\n",
      "5      VB     betalar     VB     betalar\n",
      "6      PL    tillbaka     PL    tillbaka\n",
      "7      PS         min     PS         min\n",
      "8      NN  kursavgift     NN  kursavgift\n",
      "9      AB          så     AB          så\n",
      "10     AB       snart     AB       snart\n",
      "11     KN         som     KN         som\n",
      "12     JJ     möjligt     JJ     möjligt\n",
      "13     MA           .     MA           .\n"
     ]
    }
   ],
   "source": [
    "a = ([('AB', 'Så'), ('VB', 'önskar'), ('PN', 'jag'), ('SN', 'att'), ('PN', 'du'), ('VB', 'betalar'), ('PL', 'tillbaka'), ('PS', 'min'), ('NN', 'kursavgift'), ('AB', 'så'), ('AB', 'snart'), ('KN', 'som'), ('JJ', 'möjligt'), ('MA', '.')], [('KN', 'Så'), ('PN', 'jag'), ('VB', 'önskar'), ('SN', 'att'), ('PN', 'du'), ('VB', 'betalar'), ('PL', 'tillbaka'), ('PS', 'min'), ('NN', 'kursavgift'), ('AB', 'så'), ('AB', 'snart'), ('KN', 'som'), ('JJ', 'möjligt'), ('MA', '.')])\n",
    "\n",
    "df1 = pd.DataFrame(a[0], columns =['POS og', 'Word og'])\n",
    "df2 = pd.DataFrame(a[1], columns =['POS cr', 'Word cr'])\n",
    "\n",
    "frames = [df1, df2]\n",
    "  \n",
    "result = pd.concat(frames, axis=1, join='inner')\n",
    "print(result)"
   ]
  }
 ],
 "metadata": {
  "kernelspec": {
   "display_name": "Python 3 (ipykernel)",
   "language": "python",
   "name": "python3"
  },
  "language_info": {
   "codemirror_mode": {
    "name": "ipython",
    "version": 3
   },
   "file_extension": ".py",
   "mimetype": "text/x-python",
   "name": "python",
   "nbconvert_exporter": "python",
   "pygments_lexer": "ipython3",
   "version": "3.9.7"
  }
 },
 "nbformat": 4,
 "nbformat_minor": 5
}
